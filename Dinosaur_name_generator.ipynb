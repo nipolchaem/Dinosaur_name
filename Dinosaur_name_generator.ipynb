{
  "nbformat": 4,
  "nbformat_minor": 0,
  "metadata": {
    "colab": {
      "name": "Dinosaur_name_generator.ipynb",
      "version": "0.3.2",
      "provenance": [],
      "collapsed_sections": []
    },
    "kernelspec": {
      "name": "python3",
      "display_name": "Python 3"
    },
    "accelerator": "GPU"
  },
  "cells": [
    {
      "cell_type": "markdown",
      "metadata": {
        "id": "Ze7euh45fmDG",
        "colab_type": "text"
      },
      "source": [
        "# Dinosaur Name Generator\n",
        "\n",
        "In this project, we constuct an one to sequence model that inputs a starting charactor or a short word and outputs a dinosaur name. The model consists of two LSTM layers and one fully connected layer. The output layer has softmax activation with 28 classes, which are a-z characters and \"\\n\". "
      ]
    },
    {
      "cell_type": "markdown",
      "metadata": {
        "id": "mAKaUTW9gq5E",
        "colab_type": "text"
      },
      "source": [
        "## Importing libraries and data"
      ]
    },
    {
      "cell_type": "code",
      "metadata": {
        "id": "6wlfhup_ubNF",
        "colab_type": "code",
        "outputId": "770a21cb-34c8-40b9-d3e5-c7f268fa9a71",
        "colab": {
          "base_uri": "https://localhost:8080/",
          "height": 74
        }
      },
      "source": [
        "from google.colab import drive\n",
        "drive.mount('/content/drive')"
      ],
      "execution_count": 1,
      "outputs": [
        {
          "output_type": "stream",
          "text": [
            "Drive already mounted at /content/drive; to attempt to forcibly remount, call drive.mount(\"/content/drive\", force_remount=True).\n"
          ],
          "name": "stdout"
        }
      ]
    },
    {
      "cell_type": "code",
      "metadata": {
        "id": "SemrynQ-v_4M",
        "colab_type": "code",
        "outputId": "30347d6c-566b-47dd-9a2f-17cdd9e94f3f",
        "colab": {
          "base_uri": "https://localhost:8080/",
          "height": 34
        }
      },
      "source": [
        "import tensorflow as tf\n",
        "print(tf.__version__)"
      ],
      "execution_count": 2,
      "outputs": [
        {
          "output_type": "stream",
          "text": [
            "2.0.0-beta0\n"
          ],
          "name": "stdout"
        }
      ]
    },
    {
      "cell_type": "code",
      "metadata": {
        "id": "2udXMXJ1wIq7",
        "colab_type": "code",
        "outputId": "aeb4dd2e-f14e-455c-a3c7-c2a6ed1489b1",
        "colab": {
          "base_uri": "https://localhost:8080/",
          "height": 720
        }
      },
      "source": [
        "!pip install tensorflow==2.0.0-beta0"
      ],
      "execution_count": 3,
      "outputs": [
        {
          "output_type": "stream",
          "text": [
            "Collecting tensorflow==2.0.0-beta0\n",
            "\u001b[?25l  Downloading https://files.pythonhosted.org/packages/6c/19/0d0c7f240db7bcd6b83783b9a89a67f38584d100e23ad5ae93114be92232/tensorflow-2.0.0b0-cp36-cp36m-manylinux1_x86_64.whl (87.9MB)\n",
            "\u001b[K     |████████████████████████████████| 87.9MB 194kB/s \n",
            "\u001b[?25hRequirement already satisfied: astor>=0.6.0 in /usr/local/lib/python3.6/dist-packages (from tensorflow==2.0.0-beta0) (0.8.0)\n",
            "Requirement already satisfied: gast>=0.2.0 in /usr/local/lib/python3.6/dist-packages (from tensorflow==2.0.0-beta0) (0.2.2)\n",
            "Requirement already satisfied: google-pasta>=0.1.6 in /usr/local/lib/python3.6/dist-packages (from tensorflow==2.0.0-beta0) (0.1.7)\n",
            "Requirement already satisfied: wrapt>=1.11.1 in /usr/local/lib/python3.6/dist-packages (from tensorflow==2.0.0-beta0) (1.11.2)\n",
            "Requirement already satisfied: wheel>=0.26 in /usr/local/lib/python3.6/dist-packages (from tensorflow==2.0.0-beta0) (0.33.4)\n",
            "Requirement already satisfied: six>=1.10.0 in /usr/local/lib/python3.6/dist-packages (from tensorflow==2.0.0-beta0) (1.12.0)\n",
            "Requirement already satisfied: protobuf>=3.6.1 in /usr/local/lib/python3.6/dist-packages (from tensorflow==2.0.0-beta0) (3.7.1)\n",
            "Collecting tb-nightly<1.14.0a20190604,>=1.14.0a20190603 (from tensorflow==2.0.0-beta0)\n",
            "\u001b[?25l  Downloading https://files.pythonhosted.org/packages/a4/96/571b875cd81dda9d5dfa1422a4f9d749e67c0a8d4f4f0b33a4e5f5f35e27/tb_nightly-1.14.0a20190603-py3-none-any.whl (3.1MB)\n",
            "\u001b[K     |████████████████████████████████| 3.1MB 46.5MB/s \n",
            "\u001b[?25hCollecting tf-estimator-nightly<1.14.0.dev2019060502,>=1.14.0.dev2019060501 (from tensorflow==2.0.0-beta0)\n",
            "\u001b[?25l  Downloading https://files.pythonhosted.org/packages/32/dd/99c47dd007dcf10d63fd895611b063732646f23059c618a373e85019eb0e/tf_estimator_nightly-1.14.0.dev2019060501-py2.py3-none-any.whl (496kB)\n",
            "\u001b[K     |████████████████████████████████| 501kB 45.6MB/s \n",
            "\u001b[?25hRequirement already satisfied: termcolor>=1.1.0 in /usr/local/lib/python3.6/dist-packages (from tensorflow==2.0.0-beta0) (1.1.0)\n",
            "Requirement already satisfied: grpcio>=1.8.6 in /usr/local/lib/python3.6/dist-packages (from tensorflow==2.0.0-beta0) (1.15.0)\n",
            "Requirement already satisfied: keras-preprocessing>=1.0.5 in /usr/local/lib/python3.6/dist-packages (from tensorflow==2.0.0-beta0) (1.1.0)\n",
            "Requirement already satisfied: absl-py>=0.7.0 in /usr/local/lib/python3.6/dist-packages (from tensorflow==2.0.0-beta0) (0.7.1)\n",
            "Requirement already satisfied: numpy<2.0,>=1.14.5 in /usr/local/lib/python3.6/dist-packages (from tensorflow==2.0.0-beta0) (1.16.4)\n",
            "Requirement already satisfied: keras-applications>=1.0.6 in /usr/local/lib/python3.6/dist-packages (from tensorflow==2.0.0-beta0) (1.0.8)\n",
            "Requirement already satisfied: setuptools in /usr/local/lib/python3.6/dist-packages (from protobuf>=3.6.1->tensorflow==2.0.0-beta0) (41.0.1)\n",
            "Requirement already satisfied: werkzeug>=0.11.15 in /usr/local/lib/python3.6/dist-packages (from tb-nightly<1.14.0a20190604,>=1.14.0a20190603->tensorflow==2.0.0-beta0) (0.15.4)\n",
            "Requirement already satisfied: markdown>=2.6.8 in /usr/local/lib/python3.6/dist-packages (from tb-nightly<1.14.0a20190604,>=1.14.0a20190603->tensorflow==2.0.0-beta0) (3.1.1)\n",
            "Requirement already satisfied: h5py in /usr/local/lib/python3.6/dist-packages (from keras-applications>=1.0.6->tensorflow==2.0.0-beta0) (2.8.0)\n",
            "Installing collected packages: tb-nightly, tf-estimator-nightly, tensorflow\n",
            "  Found existing installation: tensorflow 1.14.0\n",
            "    Uninstalling tensorflow-1.14.0:\n",
            "      Successfully uninstalled tensorflow-1.14.0\n",
            "Successfully installed tb-nightly-1.14.0a20190603 tensorflow-2.0.0b0 tf-estimator-nightly-1.14.0.dev2019060501\n"
          ],
          "name": "stdout"
        },
        {
          "output_type": "display_data",
          "data": {
            "application/vnd.colab-display-data+json": {
              "pip_warning": {
                "packages": [
                  "tensorboard",
                  "tensorflow",
                  "tensorflow_estimator"
                ]
              }
            }
          },
          "metadata": {
            "tags": []
          }
        }
      ]
    },
    {
      "cell_type": "code",
      "metadata": {
        "id": "yWq1ixMzuk1O",
        "colab_type": "code",
        "colab": {}
      },
      "source": [
        "import pandas as pd\n",
        "import numpy as np\n",
        "import os\n",
        "import csv\n",
        "path = \"/content/drive/My Drive/Dinosaur_name/\""
      ],
      "execution_count": 0,
      "outputs": []
    },
    {
      "cell_type": "code",
      "metadata": {
        "id": "u7RY8JxjulCr",
        "colab_type": "code",
        "colab": {}
      },
      "source": [
        "dinosaur_name = []\n",
        "with open(path+'dinos.txt','r') as textfile:\n",
        "  reader = csv.reader(textfile)\n",
        "  for row in reader:\n",
        "    dinosaur_name.append(row[0])"
      ],
      "execution_count": 0,
      "outputs": []
    },
    {
      "cell_type": "code",
      "metadata": {
        "id": "Y8qu1KFCulIl",
        "colab_type": "code",
        "outputId": "829f73a3-f4ad-4fbe-e3fa-cb0b5eb07cc3",
        "colab": {
          "base_uri": "https://localhost:8080/",
          "height": 34
        }
      },
      "source": [
        "len(dinosaur_name)"
      ],
      "execution_count": 5,
      "outputs": [
        {
          "output_type": "execute_result",
          "data": {
            "text/plain": [
              "1536"
            ]
          },
          "metadata": {
            "tags": []
          },
          "execution_count": 5
        }
      ]
    },
    {
      "cell_type": "markdown",
      "metadata": {
        "id": "zfu1aA8Cg7l9",
        "colab_type": "text"
      },
      "source": [
        "There are 1536 dinosaur names in the 'dinos.txt' file. Next, \"\\n\" will be added to all dinosaur name to indicate the end of name.\n",
        "\n"
      ]
    },
    {
      "cell_type": "code",
      "metadata": {
        "id": "JzpUK02i2U4_",
        "colab_type": "code",
        "colab": {}
      },
      "source": [
        "dinosaur_name_with_n = []\n",
        "for name in dinosaur_name:\n",
        "  name = name+\"\\n\"\n",
        "  dinosaur_name_with_n.append(name)"
      ],
      "execution_count": 0,
      "outputs": []
    },
    {
      "cell_type": "markdown",
      "metadata": {
        "id": "keziTBb9hKQh",
        "colab_type": "text"
      },
      "source": [
        "## Data preprocessing"
      ]
    },
    {
      "cell_type": "markdown",
      "metadata": {
        "id": "d28CoCPFhN1k",
        "colab_type": "text"
      },
      "source": [
        "### Importing Tokenizer\n",
        "This tokenizer will token at the character level of dinosaur names."
      ]
    },
    {
      "cell_type": "code",
      "metadata": {
        "id": "mDdXlyy7ulOs",
        "colab_type": "code",
        "colab": {}
      },
      "source": [
        "from tensorflow.keras.preprocessing.text import Tokenizer"
      ],
      "execution_count": 0,
      "outputs": []
    },
    {
      "cell_type": "code",
      "metadata": {
        "id": "56GEHYk-ulTP",
        "colab_type": "code",
        "colab": {}
      },
      "source": [
        "tokenizer = Tokenizer(char_level = True)"
      ],
      "execution_count": 0,
      "outputs": []
    },
    {
      "cell_type": "markdown",
      "metadata": {
        "id": "DT1N27dTiMIM",
        "colab_type": "text"
      },
      "source": [
        "Fitting tokenizer on dinosaur names."
      ]
    },
    {
      "cell_type": "code",
      "metadata": {
        "id": "gPM58kuey99D",
        "colab_type": "code",
        "colab": {}
      },
      "source": [
        "tokenizer.fit_on_texts(dinosaur_name_with_n)"
      ],
      "execution_count": 0,
      "outputs": []
    },
    {
      "cell_type": "markdown",
      "metadata": {
        "id": "-jPdGmiTiTWo",
        "colab_type": "text"
      },
      "source": [
        "Creating a dictionary that transforms a letter into a number."
      ]
    },
    {
      "cell_type": "code",
      "metadata": {
        "id": "dvkoVDc0y959",
        "colab_type": "code",
        "colab": {}
      },
      "source": [
        "char_index = tokenizer.word_index"
      ],
      "execution_count": 0,
      "outputs": []
    },
    {
      "cell_type": "markdown",
      "metadata": {
        "id": "PRDiy6dOifaW",
        "colab_type": "text"
      },
      "source": [
        "Creating a reverese dictionary that transforms a number into a letter."
      ]
    },
    {
      "cell_type": "code",
      "metadata": {
        "id": "PsuWoVNJy93R",
        "colab_type": "code",
        "colab": {}
      },
      "source": [
        "index_char = {index:char for (char,index) in char_index.items()}"
      ],
      "execution_count": 0,
      "outputs": []
    },
    {
      "cell_type": "code",
      "metadata": {
        "id": "Mn1wCERsy90Q",
        "colab_type": "code",
        "outputId": "18b7948e-c578-46e6-ebc4-7ea2e7141025",
        "colab": {
          "base_uri": "https://localhost:8080/",
          "height": 476
        }
      },
      "source": [
        "index_char"
      ],
      "execution_count": 12,
      "outputs": [
        {
          "output_type": "execute_result",
          "data": {
            "text/plain": [
              "{1: 'a',\n",
              " 2: 's',\n",
              " 3: 'u',\n",
              " 4: 'o',\n",
              " 5: 'r',\n",
              " 6: '\\n',\n",
              " 7: 'n',\n",
              " 8: 'i',\n",
              " 9: 'e',\n",
              " 10: 't',\n",
              " 11: 'l',\n",
              " 12: 'p',\n",
              " 13: 'h',\n",
              " 14: 'c',\n",
              " 15: 'g',\n",
              " 16: 'd',\n",
              " 17: 'm',\n",
              " 18: 'y',\n",
              " 19: 'b',\n",
              " 20: 'k',\n",
              " 21: 'v',\n",
              " 22: 'x',\n",
              " 23: 'z',\n",
              " 24: 'j',\n",
              " 25: 'w',\n",
              " 26: 'f',\n",
              " 27: 'q'}"
            ]
          },
          "metadata": {
            "tags": []
          },
          "execution_count": 12
        }
      ]
    },
    {
      "cell_type": "markdown",
      "metadata": {
        "id": "L-57oXBdisXb",
        "colab_type": "text"
      },
      "source": [
        "### Creating n-grams\n",
        "Creating n-grams from dinosaur name. These n-grams will be inputs of the model."
      ]
    },
    {
      "cell_type": "code",
      "metadata": {
        "id": "C2uVvx0r47Gp",
        "colab_type": "code",
        "colab": {}
      },
      "source": [
        "input_sequences = []\n",
        "for name in dinosaur_name_with_n:\n",
        "  token_list = tokenizer.texts_to_sequences([name])[0]\n",
        "  \n",
        "  for i in range(1,len(token_list)):\n",
        "    n_gram_sequence = token_list[:i+1]\n",
        "    input_sequences.append(n_gram_sequence)"
      ],
      "execution_count": 0,
      "outputs": []
    },
    {
      "cell_type": "markdown",
      "metadata": {
        "id": "hRTzWLQNi7Xz",
        "colab_type": "text"
      },
      "source": [
        "Finding the maximum name length."
      ]
    },
    {
      "cell_type": "code",
      "metadata": {
        "id": "HjROzWTty9xB",
        "colab_type": "code",
        "colab": {}
      },
      "source": [
        "max_name_length = max([len(x) for x in input_sequences])"
      ],
      "execution_count": 0,
      "outputs": []
    },
    {
      "cell_type": "code",
      "metadata": {
        "id": "GAE_gynz47Aj",
        "colab_type": "code",
        "outputId": "d9e3e434-0f21-4406-ff16-056b72c9847b",
        "colab": {
          "base_uri": "https://localhost:8080/",
          "height": 34
        }
      },
      "source": [
        "max_name_length"
      ],
      "execution_count": 15,
      "outputs": [
        {
          "output_type": "execute_result",
          "data": {
            "text/plain": [
              "27"
            ]
          },
          "metadata": {
            "tags": []
          },
          "execution_count": 15
        }
      ]
    },
    {
      "cell_type": "markdown",
      "metadata": {
        "id": "zZoFKIx5i5lJ",
        "colab_type": "text"
      },
      "source": [
        "These are examples of n-grams\n",
        "\n"
      ]
    },
    {
      "cell_type": "code",
      "metadata": {
        "id": "FHmxwpBp65ux",
        "colab_type": "code",
        "outputId": "e13c6875-7ac3-45b8-a5a0-8631062977a6",
        "colab": {
          "base_uri": "https://localhost:8080/",
          "height": 238
        }
      },
      "source": [
        "input_sequences[:13]"
      ],
      "execution_count": 16,
      "outputs": [
        {
          "output_type": "execute_result",
          "data": {
            "text/plain": [
              "[[1, 1],\n",
              " [1, 1, 14],\n",
              " [1, 1, 14, 13],\n",
              " [1, 1, 14, 13, 9],\n",
              " [1, 1, 14, 13, 9, 7],\n",
              " [1, 1, 14, 13, 9, 7, 4],\n",
              " [1, 1, 14, 13, 9, 7, 4, 2],\n",
              " [1, 1, 14, 13, 9, 7, 4, 2, 1],\n",
              " [1, 1, 14, 13, 9, 7, 4, 2, 1, 3],\n",
              " [1, 1, 14, 13, 9, 7, 4, 2, 1, 3, 5],\n",
              " [1, 1, 14, 13, 9, 7, 4, 2, 1, 3, 5, 3],\n",
              " [1, 1, 14, 13, 9, 7, 4, 2, 1, 3, 5, 3, 2],\n",
              " [1, 1, 14, 13, 9, 7, 4, 2, 1, 3, 5, 3, 2, 6]]"
            ]
          },
          "metadata": {
            "tags": []
          },
          "execution_count": 16
        }
      ]
    },
    {
      "cell_type": "markdown",
      "metadata": {
        "id": "LerjPrQijKY8",
        "colab_type": "text"
      },
      "source": [
        "### Padding n-grams\n",
        "Padding  all n-grams to the max_name_length, zeros will be added in front of n-grams."
      ]
    },
    {
      "cell_type": "code",
      "metadata": {
        "id": "qEeSYl1k5bfg",
        "colab_type": "code",
        "colab": {}
      },
      "source": [
        "from tensorflow.keras.preprocessing.sequence import pad_sequences"
      ],
      "execution_count": 0,
      "outputs": []
    },
    {
      "cell_type": "code",
      "metadata": {
        "id": "Zr3ihya8469y",
        "colab_type": "code",
        "colab": {}
      },
      "source": [
        "input_sequences = np.array(pad_sequences(input_sequences,maxlen=max_name_length,padding = 'pre'))"
      ],
      "execution_count": 0,
      "outputs": []
    },
    {
      "cell_type": "code",
      "metadata": {
        "id": "zdU3fFRy466w",
        "colab_type": "code",
        "outputId": "ca03713e-f806-4de7-c2f7-69445d7b07ed",
        "colab": {
          "base_uri": "https://localhost:8080/",
          "height": 459
        }
      },
      "source": [
        "input_sequences[:13]"
      ],
      "execution_count": 19,
      "outputs": [
        {
          "output_type": "execute_result",
          "data": {
            "text/plain": [
              "array([[ 0,  0,  0,  0,  0,  0,  0,  0,  0,  0,  0,  0,  0,  0,  0,  0,\n",
              "         0,  0,  0,  0,  0,  0,  0,  0,  0,  1,  1],\n",
              "       [ 0,  0,  0,  0,  0,  0,  0,  0,  0,  0,  0,  0,  0,  0,  0,  0,\n",
              "         0,  0,  0,  0,  0,  0,  0,  0,  1,  1, 14],\n",
              "       [ 0,  0,  0,  0,  0,  0,  0,  0,  0,  0,  0,  0,  0,  0,  0,  0,\n",
              "         0,  0,  0,  0,  0,  0,  0,  1,  1, 14, 13],\n",
              "       [ 0,  0,  0,  0,  0,  0,  0,  0,  0,  0,  0,  0,  0,  0,  0,  0,\n",
              "         0,  0,  0,  0,  0,  0,  1,  1, 14, 13,  9],\n",
              "       [ 0,  0,  0,  0,  0,  0,  0,  0,  0,  0,  0,  0,  0,  0,  0,  0,\n",
              "         0,  0,  0,  0,  0,  1,  1, 14, 13,  9,  7],\n",
              "       [ 0,  0,  0,  0,  0,  0,  0,  0,  0,  0,  0,  0,  0,  0,  0,  0,\n",
              "         0,  0,  0,  0,  1,  1, 14, 13,  9,  7,  4],\n",
              "       [ 0,  0,  0,  0,  0,  0,  0,  0,  0,  0,  0,  0,  0,  0,  0,  0,\n",
              "         0,  0,  0,  1,  1, 14, 13,  9,  7,  4,  2],\n",
              "       [ 0,  0,  0,  0,  0,  0,  0,  0,  0,  0,  0,  0,  0,  0,  0,  0,\n",
              "         0,  0,  1,  1, 14, 13,  9,  7,  4,  2,  1],\n",
              "       [ 0,  0,  0,  0,  0,  0,  0,  0,  0,  0,  0,  0,  0,  0,  0,  0,\n",
              "         0,  1,  1, 14, 13,  9,  7,  4,  2,  1,  3],\n",
              "       [ 0,  0,  0,  0,  0,  0,  0,  0,  0,  0,  0,  0,  0,  0,  0,  0,\n",
              "         1,  1, 14, 13,  9,  7,  4,  2,  1,  3,  5],\n",
              "       [ 0,  0,  0,  0,  0,  0,  0,  0,  0,  0,  0,  0,  0,  0,  0,  1,\n",
              "         1, 14, 13,  9,  7,  4,  2,  1,  3,  5,  3],\n",
              "       [ 0,  0,  0,  0,  0,  0,  0,  0,  0,  0,  0,  0,  0,  0,  1,  1,\n",
              "        14, 13,  9,  7,  4,  2,  1,  3,  5,  3,  2],\n",
              "       [ 0,  0,  0,  0,  0,  0,  0,  0,  0,  0,  0,  0,  0,  1,  1, 14,\n",
              "        13,  9,  7,  4,  2,  1,  3,  5,  3,  2,  6]], dtype=int32)"
            ]
          },
          "metadata": {
            "tags": []
          },
          "execution_count": 19
        }
      ]
    },
    {
      "cell_type": "markdown",
      "metadata": {
        "id": "W9RNNcJqjxsG",
        "colab_type": "text"
      },
      "source": [
        "### Dividing inputs and labels\n",
        "In this part, the padded sequence will be divided into two parts, the input and label. For example, if the sequence is\n",
        "\n",
        "$[0,0,0,0,0,0,0,0,4,7,8,9,12,23,15]$,\n",
        "\n",
        "the input will be all the elements except the last one, which is\n",
        "\n",
        "$[0,0,0,0,0,0,0,0,4,7,8,9,12,23]$,\n",
        "\n",
        "and the label will be the last element, which is\n",
        "\n",
        "$[15]$.\n",
        "\n",
        "In other word, the input sequence will be fed into RNN and predicts the label.\n"
      ]
    },
    {
      "cell_type": "code",
      "metadata": {
        "id": "4pot6ER9463q",
        "colab_type": "code",
        "colab": {}
      },
      "source": [
        "Xs = input_sequences[:,:-1]\n",
        "labels = input_sequences[:,-1]"
      ],
      "execution_count": 0,
      "outputs": []
    },
    {
      "cell_type": "code",
      "metadata": {
        "id": "Q3bKFENH-Mt5",
        "colab_type": "code",
        "colab": {}
      },
      "source": [
        "Xs = Xs.reshape(Xs.shape[0],Xs.shape[1],1)"
      ],
      "execution_count": 0,
      "outputs": []
    },
    {
      "cell_type": "code",
      "metadata": {
        "id": "zMDdYnEYA3-2",
        "colab_type": "code",
        "outputId": "8e6e4a7e-71fd-4d04-9b6b-e8878f773125",
        "colab": {
          "base_uri": "https://localhost:8080/",
          "height": 34
        }
      },
      "source": [
        "Xs.shape"
      ],
      "execution_count": 23,
      "outputs": [
        {
          "output_type": "execute_result",
          "data": {
            "text/plain": [
              "(18374, 26, 1)"
            ]
          },
          "metadata": {
            "tags": []
          },
          "execution_count": 23
        }
      ]
    },
    {
      "cell_type": "markdown",
      "metadata": {
        "id": "qi6fLxDKk7Tg",
        "colab_type": "text"
      },
      "source": [
        "Creating one-hot labels from the labels."
      ]
    },
    {
      "cell_type": "code",
      "metadata": {
        "id": "fdOCRh7w8A2b",
        "colab_type": "code",
        "colab": {}
      },
      "source": [
        "Ys = tf.keras.utils.to_categorical(labels)"
      ],
      "execution_count": 0,
      "outputs": []
    },
    {
      "cell_type": "code",
      "metadata": {
        "id": "KFPwn_W_8A0d",
        "colab_type": "code",
        "outputId": "e2225e6e-ce50-4556-f941-37b2db5f0b0e",
        "colab": {
          "base_uri": "https://localhost:8080/",
          "height": 34
        }
      },
      "source": [
        "Ys.shape"
      ],
      "execution_count": 25,
      "outputs": [
        {
          "output_type": "execute_result",
          "data": {
            "text/plain": [
              "(18374, 28)"
            ]
          },
          "metadata": {
            "tags": []
          },
          "execution_count": 25
        }
      ]
    },
    {
      "cell_type": "markdown",
      "metadata": {
        "id": "ZWx_dBWblDtk",
        "colab_type": "text"
      },
      "source": [
        "Now, we have Xs, which are inputs of the model, and Ys, which are one-hot label of the model. Xs will be fed into the RNN and the predicted labels will be compared with Ys."
      ]
    },
    {
      "cell_type": "markdown",
      "metadata": {
        "id": "lEaVAtM9lb5k",
        "colab_type": "text"
      },
      "source": [
        "## Creating Model"
      ]
    },
    {
      "cell_type": "code",
      "metadata": {
        "id": "BBFBEh4G8AyK",
        "colab_type": "code",
        "colab": {}
      },
      "source": [
        "from tensorflow.keras.models import Sequential\n",
        "from tensorflow.keras.layers import LSTM, Dense"
      ],
      "execution_count": 0,
      "outputs": []
    },
    {
      "cell_type": "markdown",
      "metadata": {
        "id": "v4MGvZba6uAY",
        "colab_type": "text"
      },
      "source": [
        "The RNN model consists of 4 layers. The fist two layers are LSTM with 64 units each layer. The next layer is fully connected layer with 64 units. The last layer is softmax layer with 28 classes."
      ]
    },
    {
      "cell_type": "code",
      "metadata": {
        "id": "u4UwlC8o8Auu",
        "colab_type": "code",
        "colab": {}
      },
      "source": [
        "model = Sequential()\n",
        "model.add(LSTM(64, input_shape = (Xs.shape[1],1), return_sequences=True, name = 'LSTM_1'))\n",
        "model.add(LSTM(64, name = \"LSTM_2\"))\n",
        "model.add(Dense(64, activation = 'relu', name = \"FC\"))\n",
        "model.add(Dense(Ys.shape[1],activation = 'softmax', name = \"OUTPUT\"))"
      ],
      "execution_count": 0,
      "outputs": []
    },
    {
      "cell_type": "code",
      "metadata": {
        "id": "L-jyjjex2T1l",
        "colab_type": "code",
        "colab": {
          "base_uri": "https://localhost:8080/",
          "height": 145
        },
        "outputId": "6f0deee7-be74-4480-c3a4-f2f9a2ae2967"
      },
      "source": [
        "from tensorflow.keras.models import load_model\n",
        "model = load_model(os.path.join(path,'model32_03.h5'))"
      ],
      "execution_count": 27,
      "outputs": [
        {
          "output_type": "stream",
          "text": [
            "WARNING: Logging before flag parsing goes to stderr.\n",
            "W0716 12:58:40.401199 140225687484288 deprecation.py:323] From /usr/local/lib/python3.6/dist-packages/tensorflow/python/ops/math_grad.py:1250: add_dispatch_support.<locals>.wrapper (from tensorflow.python.ops.array_ops) is deprecated and will be removed in a future version.\n",
            "Instructions for updating:\n",
            "Use tf.where in 2.0, which has the same broadcast rule as np.where\n"
          ],
          "name": "stderr"
        }
      ]
    },
    {
      "cell_type": "code",
      "metadata": {
        "id": "brCuSjKL8AsO",
        "colab_type": "code",
        "outputId": "11f183bc-14e5-47db-e886-c42ad887fa1a",
        "colab": {
          "base_uri": "https://localhost:8080/",
          "height": 289
        }
      },
      "source": [
        "model.summary()"
      ],
      "execution_count": 28,
      "outputs": [
        {
          "output_type": "stream",
          "text": [
            "Model: \"sequential_8\"\n",
            "_________________________________________________________________\n",
            "Layer (type)                 Output Shape              Param #   \n",
            "=================================================================\n",
            "LSTM_1 (LSTM)                (None, 26, 64)            16896     \n",
            "_________________________________________________________________\n",
            "LSTM_2 (LSTM)                (None, 64)                33024     \n",
            "_________________________________________________________________\n",
            "FC (Dense)                   (None, 64)                4160      \n",
            "_________________________________________________________________\n",
            "OUTPUT (Dense)               (None, 28)                1820      \n",
            "=================================================================\n",
            "Total params: 55,900\n",
            "Trainable params: 55,900\n",
            "Non-trainable params: 0\n",
            "_________________________________________________________________\n"
          ],
          "name": "stdout"
        }
      ]
    },
    {
      "cell_type": "code",
      "metadata": {
        "id": "alNiAvLB8Ao_",
        "colab_type": "code",
        "colab": {}
      },
      "source": [
        "from tensorflow.keras.optimizers import Adam\n",
        "adam = Adam(lr = 0.00005)"
      ],
      "execution_count": 0,
      "outputs": []
    },
    {
      "cell_type": "code",
      "metadata": {
        "id": "alc6BDJy8Ak3",
        "colab_type": "code",
        "colab": {}
      },
      "source": [
        "model.compile(loss='categorical_crossentropy',\n",
        "             optimizer = adam,\n",
        "             metrics=['accuracy'])"
      ],
      "execution_count": 0,
      "outputs": []
    },
    {
      "cell_type": "code",
      "metadata": {
        "id": "WojqzRE5_jQL",
        "colab_type": "code",
        "outputId": "c7245e7c-9819-40fa-b603-1f70c41c2210",
        "colab": {
          "base_uri": "https://localhost:8080/",
          "height": 1000
        }
      },
      "source": [
        "history = model.fit(Xs,Ys, epochs = 100)"
      ],
      "execution_count": 35,
      "outputs": [
        {
          "output_type": "stream",
          "text": [
            "Train on 18374 samples\n",
            "Epoch 1/100\n",
            "18374/18374 [==============================] - 20s 1ms/sample - loss: 0.4754 - accuracy: 0.8290\n",
            "Epoch 2/100\n",
            "18374/18374 [==============================] - 21s 1ms/sample - loss: 0.4753 - accuracy: 0.8286\n",
            "Epoch 3/100\n",
            "18374/18374 [==============================] - 20s 1ms/sample - loss: 0.4752 - accuracy: 0.8292\n",
            "Epoch 4/100\n",
            "18374/18374 [==============================] - 20s 1ms/sample - loss: 0.4752 - accuracy: 0.8292\n",
            "Epoch 5/100\n",
            "18374/18374 [==============================] - 20s 1ms/sample - loss: 0.4750 - accuracy: 0.8295\n",
            "Epoch 6/100\n",
            "18374/18374 [==============================] - 20s 1ms/sample - loss: 0.4749 - accuracy: 0.8286\n",
            "Epoch 7/100\n",
            "18374/18374 [==============================] - 20s 1ms/sample - loss: 0.4746 - accuracy: 0.8292\n",
            "Epoch 8/100\n",
            "18374/18374 [==============================] - 20s 1ms/sample - loss: 0.4746 - accuracy: 0.8305\n",
            "Epoch 9/100\n",
            "18374/18374 [==============================] - 20s 1ms/sample - loss: 0.4745 - accuracy: 0.8290\n",
            "Epoch 10/100\n",
            "18374/18374 [==============================] - 20s 1ms/sample - loss: 0.4743 - accuracy: 0.8305\n",
            "Epoch 11/100\n",
            "18374/18374 [==============================] - 20s 1ms/sample - loss: 0.4744 - accuracy: 0.8292\n",
            "Epoch 12/100\n",
            "18374/18374 [==============================] - 19s 1ms/sample - loss: 0.4741 - accuracy: 0.8298\n",
            "Epoch 13/100\n",
            "18374/18374 [==============================] - 20s 1ms/sample - loss: 0.4738 - accuracy: 0.8287\n",
            "Epoch 14/100\n",
            "18374/18374 [==============================] - 19s 1ms/sample - loss: 0.4739 - accuracy: 0.8291\n",
            "Epoch 15/100\n",
            "18374/18374 [==============================] - 20s 1ms/sample - loss: 0.4738 - accuracy: 0.8292\n",
            "Epoch 16/100\n",
            "18374/18374 [==============================] - 19s 1ms/sample - loss: 0.4736 - accuracy: 0.8297\n",
            "Epoch 17/100\n",
            "18374/18374 [==============================] - 19s 1ms/sample - loss: 0.4736 - accuracy: 0.8293\n",
            "Epoch 18/100\n",
            "18374/18374 [==============================] - 19s 1ms/sample - loss: 0.4735 - accuracy: 0.8295\n",
            "Epoch 19/100\n",
            "18374/18374 [==============================] - 19s 1ms/sample - loss: 0.4733 - accuracy: 0.8306\n",
            "Epoch 20/100\n",
            "18374/18374 [==============================] - 19s 1ms/sample - loss: 0.4732 - accuracy: 0.8297\n",
            "Epoch 21/100\n",
            "18374/18374 [==============================] - 19s 1ms/sample - loss: 0.4730 - accuracy: 0.8294\n",
            "Epoch 22/100\n",
            "18374/18374 [==============================] - 19s 1ms/sample - loss: 0.4730 - accuracy: 0.8292\n",
            "Epoch 23/100\n",
            "18374/18374 [==============================] - 19s 1ms/sample - loss: 0.4728 - accuracy: 0.8296\n",
            "Epoch 24/100\n",
            "18374/18374 [==============================] - 19s 1ms/sample - loss: 0.4727 - accuracy: 0.8287\n",
            "Epoch 25/100\n",
            "18374/18374 [==============================] - 20s 1ms/sample - loss: 0.4727 - accuracy: 0.8298\n",
            "Epoch 26/100\n",
            "18374/18374 [==============================] - 20s 1ms/sample - loss: 0.4725 - accuracy: 0.8299\n",
            "Epoch 27/100\n",
            "18374/18374 [==============================] - 20s 1ms/sample - loss: 0.4724 - accuracy: 0.8295\n",
            "Epoch 28/100\n",
            "18374/18374 [==============================] - 19s 1ms/sample - loss: 0.4722 - accuracy: 0.8294\n",
            "Epoch 29/100\n",
            "18374/18374 [==============================] - 19s 1ms/sample - loss: 0.4723 - accuracy: 0.8297\n",
            "Epoch 30/100\n",
            "18374/18374 [==============================] - 20s 1ms/sample - loss: 0.4722 - accuracy: 0.8288\n",
            "Epoch 31/100\n",
            "18374/18374 [==============================] - 20s 1ms/sample - loss: 0.4720 - accuracy: 0.8294\n",
            "Epoch 32/100\n",
            "18374/18374 [==============================] - 20s 1ms/sample - loss: 0.4720 - accuracy: 0.8294\n",
            "Epoch 33/100\n",
            "18374/18374 [==============================] - 20s 1ms/sample - loss: 0.4718 - accuracy: 0.8292\n",
            "Epoch 34/100\n",
            "18374/18374 [==============================] - 20s 1ms/sample - loss: 0.4718 - accuracy: 0.8306\n",
            "Epoch 35/100\n",
            "18374/18374 [==============================] - 19s 1ms/sample - loss: 0.4715 - accuracy: 0.8298\n",
            "Epoch 36/100\n",
            "18374/18374 [==============================] - 19s 1ms/sample - loss: 0.4715 - accuracy: 0.8292\n",
            "Epoch 37/100\n",
            "18374/18374 [==============================] - 19s 1ms/sample - loss: 0.4714 - accuracy: 0.8294\n",
            "Epoch 38/100\n",
            "18374/18374 [==============================] - 20s 1ms/sample - loss: 0.4713 - accuracy: 0.8306\n",
            "Epoch 39/100\n",
            "18374/18374 [==============================] - 20s 1ms/sample - loss: 0.4712 - accuracy: 0.8297\n",
            "Epoch 40/100\n",
            "18374/18374 [==============================] - 20s 1ms/sample - loss: 0.4711 - accuracy: 0.8296\n",
            "Epoch 41/100\n",
            "18374/18374 [==============================] - 20s 1ms/sample - loss: 0.4710 - accuracy: 0.8287\n",
            "Epoch 42/100\n",
            "18374/18374 [==============================] - 20s 1ms/sample - loss: 0.4710 - accuracy: 0.8299\n",
            "Epoch 43/100\n",
            "18374/18374 [==============================] - 21s 1ms/sample - loss: 0.4707 - accuracy: 0.8292\n",
            "Epoch 44/100\n",
            "18374/18374 [==============================] - 20s 1ms/sample - loss: 0.4707 - accuracy: 0.8293\n",
            "Epoch 45/100\n",
            "18374/18374 [==============================] - 20s 1ms/sample - loss: 0.4705 - accuracy: 0.8304\n",
            "Epoch 46/100\n",
            "18374/18374 [==============================] - 20s 1ms/sample - loss: 0.4705 - accuracy: 0.8299\n",
            "Epoch 47/100\n",
            "18374/18374 [==============================] - 20s 1ms/sample - loss: 0.4703 - accuracy: 0.8301\n",
            "Epoch 48/100\n",
            "18374/18374 [==============================] - 20s 1ms/sample - loss: 0.4704 - accuracy: 0.8299\n",
            "Epoch 49/100\n",
            "18374/18374 [==============================] - 20s 1ms/sample - loss: 0.4702 - accuracy: 0.8297\n",
            "Epoch 50/100\n",
            "18374/18374 [==============================] - 20s 1ms/sample - loss: 0.4701 - accuracy: 0.8295\n",
            "Epoch 51/100\n",
            "18374/18374 [==============================] - 20s 1ms/sample - loss: 0.4700 - accuracy: 0.8287\n",
            "Epoch 52/100\n",
            "18374/18374 [==============================] - 20s 1ms/sample - loss: 0.4700 - accuracy: 0.8306\n",
            "Epoch 53/100\n",
            "18374/18374 [==============================] - 20s 1ms/sample - loss: 0.4698 - accuracy: 0.8307\n",
            "Epoch 54/100\n",
            "18374/18374 [==============================] - 20s 1ms/sample - loss: 0.4697 - accuracy: 0.8303\n",
            "Epoch 55/100\n",
            "18374/18374 [==============================] - 20s 1ms/sample - loss: 0.4697 - accuracy: 0.8291\n",
            "Epoch 56/100\n",
            "18374/18374 [==============================] - 20s 1ms/sample - loss: 0.4697 - accuracy: 0.8302\n",
            "Epoch 57/100\n",
            "18374/18374 [==============================] - 20s 1ms/sample - loss: 0.4695 - accuracy: 0.8295\n",
            "Epoch 58/100\n",
            "18374/18374 [==============================] - 20s 1ms/sample - loss: 0.4695 - accuracy: 0.8293\n",
            "Epoch 59/100\n",
            "18374/18374 [==============================] - 19s 1ms/sample - loss: 0.4693 - accuracy: 0.8300\n",
            "Epoch 60/100\n",
            "18374/18374 [==============================] - 19s 1ms/sample - loss: 0.4692 - accuracy: 0.8301\n",
            "Epoch 61/100\n",
            "18374/18374 [==============================] - 19s 1ms/sample - loss: 0.4691 - accuracy: 0.8302\n",
            "Epoch 62/100\n",
            "18374/18374 [==============================] - 19s 1ms/sample - loss: 0.4690 - accuracy: 0.8306\n",
            "Epoch 63/100\n",
            "18374/18374 [==============================] - 19s 1ms/sample - loss: 0.4690 - accuracy: 0.8306\n",
            "Epoch 64/100\n",
            "18374/18374 [==============================] - 19s 1ms/sample - loss: 0.4688 - accuracy: 0.8290\n",
            "Epoch 65/100\n",
            "18374/18374 [==============================] - 19s 1ms/sample - loss: 0.4686 - accuracy: 0.8304\n",
            "Epoch 66/100\n",
            "18374/18374 [==============================] - 19s 1ms/sample - loss: 0.4688 - accuracy: 0.8299\n",
            "Epoch 67/100\n",
            "18374/18374 [==============================] - 19s 1ms/sample - loss: 0.4685 - accuracy: 0.8293\n",
            "Epoch 68/100\n",
            "18374/18374 [==============================] - 19s 1ms/sample - loss: 0.4685 - accuracy: 0.8304\n",
            "Epoch 69/100\n",
            "18374/18374 [==============================] - 19s 1ms/sample - loss: 0.4683 - accuracy: 0.8300\n",
            "Epoch 70/100\n",
            "18374/18374 [==============================] - 19s 1ms/sample - loss: 0.4683 - accuracy: 0.8306\n",
            "Epoch 71/100\n",
            "18374/18374 [==============================] - 19s 1ms/sample - loss: 0.4681 - accuracy: 0.8302\n",
            "Epoch 72/100\n",
            "18374/18374 [==============================] - 20s 1ms/sample - loss: 0.4681 - accuracy: 0.8298\n",
            "Epoch 73/100\n",
            "18374/18374 [==============================] - 19s 1ms/sample - loss: 0.4680 - accuracy: 0.8298\n",
            "Epoch 74/100\n",
            "18374/18374 [==============================] - 20s 1ms/sample - loss: 0.4679 - accuracy: 0.8308\n",
            "Epoch 75/100\n",
            "18374/18374 [==============================] - 20s 1ms/sample - loss: 0.4680 - accuracy: 0.8298\n",
            "Epoch 76/100\n",
            "18374/18374 [==============================] - 20s 1ms/sample - loss: 0.4678 - accuracy: 0.8297\n",
            "Epoch 77/100\n",
            "18374/18374 [==============================] - 20s 1ms/sample - loss: 0.4677 - accuracy: 0.8298\n",
            "Epoch 78/100\n",
            "18374/18374 [==============================] - 20s 1ms/sample - loss: 0.4676 - accuracy: 0.8291\n",
            "Epoch 79/100\n",
            "18374/18374 [==============================] - 20s 1ms/sample - loss: 0.4676 - accuracy: 0.8297\n",
            "Epoch 80/100\n",
            "18374/18374 [==============================] - 20s 1ms/sample - loss: 0.4674 - accuracy: 0.8291\n",
            "Epoch 81/100\n",
            "18374/18374 [==============================] - 20s 1ms/sample - loss: 0.4674 - accuracy: 0.8304\n",
            "Epoch 82/100\n",
            "18374/18374 [==============================] - 20s 1ms/sample - loss: 0.4673 - accuracy: 0.8307\n",
            "Epoch 83/100\n",
            "18374/18374 [==============================] - 20s 1ms/sample - loss: 0.4672 - accuracy: 0.8302\n",
            "Epoch 84/100\n",
            "18374/18374 [==============================] - 20s 1ms/sample - loss: 0.4671 - accuracy: 0.8308\n",
            "Epoch 85/100\n",
            "18374/18374 [==============================] - 20s 1ms/sample - loss: 0.4670 - accuracy: 0.8302\n",
            "Epoch 86/100\n",
            "18374/18374 [==============================] - 20s 1ms/sample - loss: 0.4669 - accuracy: 0.8292\n",
            "Epoch 87/100\n",
            "18374/18374 [==============================] - 20s 1ms/sample - loss: 0.4668 - accuracy: 0.8304\n",
            "Epoch 88/100\n",
            "18374/18374 [==============================] - 20s 1ms/sample - loss: 0.4667 - accuracy: 0.8303\n",
            "Epoch 89/100\n",
            "18374/18374 [==============================] - 20s 1ms/sample - loss: 0.4667 - accuracy: 0.8306\n",
            "Epoch 90/100\n",
            "18374/18374 [==============================] - 20s 1ms/sample - loss: 0.4667 - accuracy: 0.8298\n",
            "Epoch 91/100\n",
            "18374/18374 [==============================] - 20s 1ms/sample - loss: 0.4665 - accuracy: 0.8301\n",
            "Epoch 92/100\n",
            "18374/18374 [==============================] - 21s 1ms/sample - loss: 0.4665 - accuracy: 0.8309\n",
            "Epoch 93/100\n",
            "18374/18374 [==============================] - 20s 1ms/sample - loss: 0.4664 - accuracy: 0.8298\n",
            "Epoch 94/100\n",
            "18374/18374 [==============================] - 20s 1ms/sample - loss: 0.4663 - accuracy: 0.8296\n",
            "Epoch 95/100\n",
            "18374/18374 [==============================] - 21s 1ms/sample - loss: 0.4661 - accuracy: 0.8305\n",
            "Epoch 96/100\n",
            "18374/18374 [==============================] - 21s 1ms/sample - loss: 0.4661 - accuracy: 0.8305\n",
            "Epoch 97/100\n",
            "18374/18374 [==============================] - 21s 1ms/sample - loss: 0.4659 - accuracy: 0.8304\n",
            "Epoch 98/100\n",
            "18374/18374 [==============================] - 20s 1ms/sample - loss: 0.4661 - accuracy: 0.8308\n",
            "Epoch 99/100\n",
            "18374/18374 [==============================] - 20s 1ms/sample - loss: 0.4657 - accuracy: 0.8295\n",
            "Epoch 100/100\n",
            "18374/18374 [==============================] - 20s 1ms/sample - loss: 0.4659 - accuracy: 0.8302\n"
          ],
          "name": "stdout"
        }
      ]
    },
    {
      "cell_type": "code",
      "metadata": {
        "id": "-hv1tu2-XFZi",
        "colab_type": "code",
        "colab": {}
      },
      "source": [
        "model.save(os.path.join(path,'model32_04.h5'))"
      ],
      "execution_count": 0,
      "outputs": []
    },
    {
      "cell_type": "markdown",
      "metadata": {
        "id": "DBJrlkpc7Nky",
        "colab_type": "text"
      },
      "source": [
        "## Name generator\n",
        "In this section, we write a function that generates a dinosaur name. The input of the function will be a starting word, a letter or a blank. The output will be the dinosaur name."
      ]
    },
    {
      "cell_type": "code",
      "metadata": {
        "id": "3Hn1dCsxaohH",
        "colab_type": "code",
        "colab": {}
      },
      "source": [
        "def get_dinosaurname(starting):\n",
        "  seed_text = starting\n",
        "   \n",
        "  while True:\n",
        "    token_list = tokenizer.texts_to_sequences([seed_text])\n",
        "    X = np.array(pad_sequences(token_list,maxlen=max_name_length-1,padding = 'pre', truncating='pre'))\n",
        "    \n",
        "    X=X.reshape(X.shape[0],X.shape[1],1)\n",
        "    prob = model.predict_proba(X)\n",
        "    idx = np.random.choice(Ys.shape[1], p=prob[0,:])\n",
        "    \n",
        "    output_char = index_char[idx]\n",
        "\n",
        "    seed_text+=output_char\n",
        "    \n",
        "    if(output_char == '\\n'):\n",
        "      break\n",
        "   \n",
        "  return seed_text\n",
        "  "
      ],
      "execution_count": 0,
      "outputs": []
    },
    {
      "cell_type": "code",
      "metadata": {
        "id": "sgZNLlgldnsK",
        "colab_type": "code",
        "outputId": "c025023e-dc1b-49cf-e119-3c508b0d2dde",
        "colab": {
          "base_uri": "https://localhost:8080/",
          "height": 51
        }
      },
      "source": [
        "dinosaur1 = get_dinosaurname('ty')\n",
        "print(dinosaur1)"
      ],
      "execution_count": 39,
      "outputs": [
        {
          "output_type": "stream",
          "text": [
            "tycocephale\n",
            "\n"
          ],
          "name": "stdout"
        }
      ]
    },
    {
      "cell_type": "code",
      "metadata": {
        "id": "fAQchJZelm-z",
        "colab_type": "code",
        "colab": {
          "base_uri": "https://localhost:8080/",
          "height": 357
        },
        "outputId": "dae08ceb-aa32-45aa-b631-dbe75725d155"
      },
      "source": [
        "for i in range(10):\n",
        "  print(get_dinosaurname(''))"
      ],
      "execution_count": 40,
      "outputs": [
        {
          "output_type": "stream",
          "text": [
            "venceoceratops\n",
            "\n",
            "venosaurus\n",
            "\n",
            "liporosaurus\n",
            "\n",
            "vhaan\n",
            "\n",
            "brevhongosaurus\n",
            "\n",
            "vixianycus\n",
            "\n",
            "moshisaurus\n",
            "\n",
            "bahsaurus\n",
            "\n",
            "bubazasaurus\n",
            "\n",
            "bagaraatan\n",
            "\n"
          ],
          "name": "stdout"
        }
      ]
    }
  ]
}